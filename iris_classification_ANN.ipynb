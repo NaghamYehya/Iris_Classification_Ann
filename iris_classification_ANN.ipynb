{
  "nbformat": 4,
  "nbformat_minor": 0,
  "metadata": {
    "colab": {
      "name": "iris_classification_ANN.ipynb",
      "provenance": []
    },
    "kernelspec": {
      "name": "python3",
      "display_name": "Python 3"
    },
    "language_info": {
      "name": "python"
    }
  },
  "cells": [
    {
      "cell_type": "code",
      "metadata": {
        "id": "Wpsltctncqmo"
      },
      "source": [
        "# Importing Packages\n",
        "import pandas as pd \n",
        "import numpy as np \n",
        "import seaborn as sns \n",
        "import matplotlib.pyplot as plt\n"
      ],
      "execution_count": 299,
      "outputs": []
    },
    {
      "cell_type": "code",
      "metadata": {
        "id": "hNOKmA9aiBuc"
      },
      "source": [
        "df=pd.read_csv(\"Iris.csv\")"
      ],
      "execution_count": 300,
      "outputs": []
    },
    {
      "cell_type": "code",
      "metadata": {
        "colab": {
          "base_uri": "https://localhost:8080/",
          "height": 195
        },
        "id": "NlFZLJ2viAiB",
        "outputId": "8de270db-ade7-49ac-c82a-09bf2c2995c5"
      },
      "source": [
        "df.head()"
      ],
      "execution_count": 301,
      "outputs": [
        {
          "output_type": "execute_result",
          "data": {
            "text/html": [
              "<div>\n",
              "<style scoped>\n",
              "    .dataframe tbody tr th:only-of-type {\n",
              "        vertical-align: middle;\n",
              "    }\n",
              "\n",
              "    .dataframe tbody tr th {\n",
              "        vertical-align: top;\n",
              "    }\n",
              "\n",
              "    .dataframe thead th {\n",
              "        text-align: right;\n",
              "    }\n",
              "</style>\n",
              "<table border=\"1\" class=\"dataframe\">\n",
              "  <thead>\n",
              "    <tr style=\"text-align: right;\">\n",
              "      <th></th>\n",
              "      <th>Id</th>\n",
              "      <th>SepalLengthCm</th>\n",
              "      <th>SepalWidthCm</th>\n",
              "      <th>PetalLengthCm</th>\n",
              "      <th>PetalWidthCm</th>\n",
              "      <th>Species</th>\n",
              "    </tr>\n",
              "  </thead>\n",
              "  <tbody>\n",
              "    <tr>\n",
              "      <th>0</th>\n",
              "      <td>1</td>\n",
              "      <td>5.1</td>\n",
              "      <td>3.5</td>\n",
              "      <td>1.4</td>\n",
              "      <td>0.2</td>\n",
              "      <td>Iris-setosa</td>\n",
              "    </tr>\n",
              "    <tr>\n",
              "      <th>1</th>\n",
              "      <td>2</td>\n",
              "      <td>4.9</td>\n",
              "      <td>3.0</td>\n",
              "      <td>1.4</td>\n",
              "      <td>0.2</td>\n",
              "      <td>Iris-setosa</td>\n",
              "    </tr>\n",
              "    <tr>\n",
              "      <th>2</th>\n",
              "      <td>3</td>\n",
              "      <td>4.7</td>\n",
              "      <td>3.2</td>\n",
              "      <td>1.3</td>\n",
              "      <td>0.2</td>\n",
              "      <td>Iris-setosa</td>\n",
              "    </tr>\n",
              "    <tr>\n",
              "      <th>3</th>\n",
              "      <td>4</td>\n",
              "      <td>4.6</td>\n",
              "      <td>3.1</td>\n",
              "      <td>1.5</td>\n",
              "      <td>0.2</td>\n",
              "      <td>Iris-setosa</td>\n",
              "    </tr>\n",
              "    <tr>\n",
              "      <th>4</th>\n",
              "      <td>5</td>\n",
              "      <td>5.0</td>\n",
              "      <td>3.6</td>\n",
              "      <td>1.4</td>\n",
              "      <td>0.2</td>\n",
              "      <td>Iris-setosa</td>\n",
              "    </tr>\n",
              "  </tbody>\n",
              "</table>\n",
              "</div>"
            ],
            "text/plain": [
              "   Id  SepalLengthCm  SepalWidthCm  PetalLengthCm  PetalWidthCm      Species\n",
              "0   1            5.1           3.5            1.4           0.2  Iris-setosa\n",
              "1   2            4.9           3.0            1.4           0.2  Iris-setosa\n",
              "2   3            4.7           3.2            1.3           0.2  Iris-setosa\n",
              "3   4            4.6           3.1            1.5           0.2  Iris-setosa\n",
              "4   5            5.0           3.6            1.4           0.2  Iris-setosa"
            ]
          },
          "metadata": {
            "tags": []
          },
          "execution_count": 301
        }
      ]
    },
    {
      "cell_type": "code",
      "metadata": {
        "colab": {
          "base_uri": "https://localhost:8080/"
        },
        "id": "Zko_4Dwljxki",
        "outputId": "227b0b99-653e-4e5d-eb28-05e8dbfe0fda"
      },
      "source": [
        "df.info()"
      ],
      "execution_count": 302,
      "outputs": [
        {
          "output_type": "stream",
          "text": [
            "<class 'pandas.core.frame.DataFrame'>\n",
            "RangeIndex: 150 entries, 0 to 149\n",
            "Data columns (total 6 columns):\n",
            " #   Column         Non-Null Count  Dtype  \n",
            "---  ------         --------------  -----  \n",
            " 0   Id             150 non-null    int64  \n",
            " 1   SepalLengthCm  150 non-null    float64\n",
            " 2   SepalWidthCm   150 non-null    float64\n",
            " 3   PetalLengthCm  150 non-null    float64\n",
            " 4   PetalWidthCm   150 non-null    float64\n",
            " 5   Species        150 non-null    object \n",
            "dtypes: float64(4), int64(1), object(1)\n",
            "memory usage: 7.2+ KB\n"
          ],
          "name": "stdout"
        }
      ]
    },
    {
      "cell_type": "code",
      "metadata": {
        "colab": {
          "base_uri": "https://localhost:8080/",
          "height": 596
        },
        "id": "-sOXb69Nj2Ma",
        "outputId": "c2806b4e-4e91-487d-a9e0-723f620457c0"
      },
      "source": [
        "plt.figure(figsize=(10,10))\n",
        "sns.heatmap(df.corr(),annot=True);"
      ],
      "execution_count": 303,
      "outputs": [
        {
          "output_type": "display_data",
          "data": {
            "image/png": "[encoded data removed]",
            "text/plain": [
              "<Figure size 720x720 with 2 Axes>"
            ]
          },
          "metadata": {
            "tags": [],
            "needs_background": "light"
          }
        }
      ]
    },
    {
      "cell_type": "code",
      "metadata": {
        "colab": {
          "base_uri": "https://localhost:8080/",
          "height": 195
        },
        "id": "ATGYWEqrj93N",
        "outputId": "117340ed-506f-4858-9317-3bb3d54373bb"
      },
      "source": [
        "x=df.iloc[:,1:5]\n",
        "x.head()"
      ],
      "execution_count": 304,
      "outputs": [
        {
          "output_type": "execute_result",
          "data": {
            "text/html": [
              "<div>\n",
              "<style scoped>\n",
              "    .dataframe tbody tr th:only-of-type {\n",
              "        vertical-align: middle;\n",
              "    }\n",
              "\n",
              "    .dataframe tbody tr th {\n",
              "        vertical-align: top;\n",
              "    }\n",
              "\n",
              "    .dataframe thead th {\n",
              "        text-align: right;\n",
              "    }\n",
              "</style>\n",
              "<table border=\"1\" class=\"dataframe\">\n",
              "  <thead>\n",
              "    <tr style=\"text-align: right;\">\n",
              "      <th></th>\n",
              "      <th>SepalLengthCm</th>\n",
              "      <th>SepalWidthCm</th>\n",
              "      <th>PetalLengthCm</th>\n",
              "      <th>PetalWidthCm</th>\n",
              "    </tr>\n",
              "  </thead>\n",
              "  <tbody>\n",
              "    <tr>\n",
              "      <th>0</th>\n",
              "      <td>5.1</td>\n",
              "      <td>3.5</td>\n",
              "      <td>1.4</td>\n",
              "      <td>0.2</td>\n",
              "    </tr>\n",
              "    <tr>\n",
              "      <th>1</th>\n",
              "      <td>4.9</td>\n",
              "      <td>3.0</td>\n",
              "      <td>1.4</td>\n",
              "      <td>0.2</td>\n",
              "    </tr>\n",
              "    <tr>\n",
              "      <th>2</th>\n",
              "      <td>4.7</td>\n",
              "      <td>3.2</td>\n",
              "      <td>1.3</td>\n",
              "      <td>0.2</td>\n",
              "    </tr>\n",
              "    <tr>\n",
              "      <th>3</th>\n",
              "      <td>4.6</td>\n",
              "      <td>3.1</td>\n",
              "      <td>1.5</td>\n",
              "      <td>0.2</td>\n",
              "    </tr>\n",
              "    <tr>\n",
              "      <th>4</th>\n",
              "      <td>5.0</td>\n",
              "      <td>3.6</td>\n",
              "      <td>1.4</td>\n",
              "      <td>0.2</td>\n",
              "    </tr>\n",
              "  </tbody>\n",
              "</table>\n",
              "</div>"
            ],
            "text/plain": [
              "   SepalLengthCm  SepalWidthCm  PetalLengthCm  PetalWidthCm\n",
              "0            5.1           3.5            1.4           0.2\n",
              "1            4.9           3.0            1.4           0.2\n",
              "2            4.7           3.2            1.3           0.2\n",
              "3            4.6           3.1            1.5           0.2\n",
              "4            5.0           3.6            1.4           0.2"
            ]
          },
          "metadata": {
            "tags": []
          },
          "execution_count": 304
        }
      ]
    },
    {
      "cell_type": "code",
      "metadata": {
        "id": "UlK6HsH5pfGB"
      },
      "source": [
        "from sklearn.preprocessing import LabelEncoder"
      ],
      "execution_count": 305,
      "outputs": []
    },
    {
      "cell_type": "code",
      "metadata": {
        "id": "Qw7RzYw9pn7Y"
      },
      "source": [
        "le = LabelEncoder()"
      ],
      "execution_count": 306,
      "outputs": []
    },
    {
      "cell_type": "code",
      "metadata": {
        "colab": {
          "base_uri": "https://localhost:8080/"
        },
        "id": "0s5AvwBKptkK",
        "outputId": "00b9ee1a-ad03-4823-fc94-1c335a65307b"
      },
      "source": [
        "le.fit(df['Species'])"
      ],
      "execution_count": 307,
      "outputs": [
        {
          "output_type": "execute_result",
          "data": {
            "text/plain": [
              "LabelEncoder()"
            ]
          },
          "metadata": {
            "tags": []
          },
          "execution_count": 307
        }
      ]
    },
    {
      "cell_type": "code",
      "metadata": {
        "colab": {
          "base_uri": "https://localhost:8080/"
        },
        "id": "5z48M-cdp7ys",
        "outputId": "a280f168-f9a7-4531-8aa1-01b36870fb92"
      },
      "source": [
        "le.classes_"
      ],
      "execution_count": 308,
      "outputs": [
        {
          "output_type": "execute_result",
          "data": {
            "text/plain": [
              "array(['Iris-setosa', 'Iris-versicolor', 'Iris-virginica'], dtype=object)"
            ]
          },
          "metadata": {
            "tags": []
          },
          "execution_count": 308
        }
      ]
    },
    {
      "cell_type": "code",
      "metadata": {
        "colab": {
          "base_uri": "https://localhost:8080/",
          "height": 195
        },
        "id": "5SkD7Aj9qC0U",
        "outputId": "f717c273-cbde-4741-ba1b-3ebd525be45f"
      },
      "source": [
        "df['Species']=le.transform(df['Species'])\n",
        "df.head()"
      ],
      "execution_count": 309,
      "outputs": [
        {
          "output_type": "execute_result",
          "data": {
            "text/html": [
              "<div>\n",
              "<style scoped>\n",
              "    .dataframe tbody tr th:only-of-type {\n",
              "        vertical-align: middle;\n",
              "    }\n",
              "\n",
              "    .dataframe tbody tr th {\n",
              "        vertical-align: top;\n",
              "    }\n",
              "\n",
              "    .dataframe thead th {\n",
              "        text-align: right;\n",
              "    }\n",
              "</style>\n",
              "<table border=\"1\" class=\"dataframe\">\n",
              "  <thead>\n",
              "    <tr style=\"text-align: right;\">\n",
              "      <th></th>\n",
              "      <th>Id</th>\n",
              "      <th>SepalLengthCm</th>\n",
              "      <th>SepalWidthCm</th>\n",
              "      <th>PetalLengthCm</th>\n",
              "      <th>PetalWidthCm</th>\n",
              "      <th>Species</th>\n",
              "    </tr>\n",
              "  </thead>\n",
              "  <tbody>\n",
              "    <tr>\n",
              "      <th>0</th>\n",
              "      <td>1</td>\n",
              "      <td>5.1</td>\n",
              "      <td>3.5</td>\n",
              "      <td>1.4</td>\n",
              "      <td>0.2</td>\n",
              "      <td>0</td>\n",
              "    </tr>\n",
              "    <tr>\n",
              "      <th>1</th>\n",
              "      <td>2</td>\n",
              "      <td>4.9</td>\n",
              "      <td>3.0</td>\n",
              "      <td>1.4</td>\n",
              "      <td>0.2</td>\n",
              "      <td>0</td>\n",
              "    </tr>\n",
              "    <tr>\n",
              "      <th>2</th>\n",
              "      <td>3</td>\n",
              "      <td>4.7</td>\n",
              "      <td>3.2</td>\n",
              "      <td>1.3</td>\n",
              "      <td>0.2</td>\n",
              "      <td>0</td>\n",
              "    </tr>\n",
              "    <tr>\n",
              "      <th>3</th>\n",
              "      <td>4</td>\n",
              "      <td>4.6</td>\n",
              "      <td>3.1</td>\n",
              "      <td>1.5</td>\n",
              "      <td>0.2</td>\n",
              "      <td>0</td>\n",
              "    </tr>\n",
              "    <tr>\n",
              "      <th>4</th>\n",
              "      <td>5</td>\n",
              "      <td>5.0</td>\n",
              "      <td>3.6</td>\n",
              "      <td>1.4</td>\n",
              "      <td>0.2</td>\n",
              "      <td>0</td>\n",
              "    </tr>\n",
              "  </tbody>\n",
              "</table>\n",
              "</div>"
            ],
            "text/plain": [
              "   Id  SepalLengthCm  SepalWidthCm  PetalLengthCm  PetalWidthCm  Species\n",
              "0   1            5.1           3.5            1.4           0.2        0\n",
              "1   2            4.9           3.0            1.4           0.2        0\n",
              "2   3            4.7           3.2            1.3           0.2        0\n",
              "3   4            4.6           3.1            1.5           0.2        0\n",
              "4   5            5.0           3.6            1.4           0.2        0"
            ]
          },
          "metadata": {
            "tags": []
          },
          "execution_count": 309
        }
      ]
    },
    {
      "cell_type": "code",
      "metadata": {
        "colab": {
          "base_uri": "https://localhost:8080/"
        },
        "id": "KAs-czsqlvr6",
        "outputId": "2cc81882-31c7-49db-d6f5-87656c1bccf1"
      },
      "source": [
        "y=df.iloc[:,5]\n",
        "y.tail()"
      ],
      "execution_count": 310,
      "outputs": [
        {
          "output_type": "execute_result",
          "data": {
            "text/plain": [
              "145    2\n",
              "146    2\n",
              "147    2\n",
              "148    2\n",
              "149    2\n",
              "Name: Species, dtype: int64"
            ]
          },
          "metadata": {
            "tags": []
          },
          "execution_count": 310
        }
      ]
    },
    {
      "cell_type": "code",
      "metadata": {
        "id": "sJUyyT90l25L"
      },
      "source": [
        "from sklearn.model_selection import train_test_split"
      ],
      "execution_count": 311,
      "outputs": []
    },
    {
      "cell_type": "code",
      "metadata": {
        "id": "5FQfoCzBmzFh"
      },
      "source": [
        "x_train,x_test,y_train,y_test=train_test_split(x,y,test_size=0.3,random_state=42)"
      ],
      "execution_count": 312,
      "outputs": []
    },
    {
      "cell_type": "markdown",
      "metadata": {
        "id": "ccae6NbmwPDm"
      },
      "source": [
        "#**First Model**"
      ]
    },
    {
      "cell_type": "markdown",
      "metadata": {
        "id": "XqcBFdP4zhbX"
      },
      "source": [
        "###using neurones in input layer 10 and in hidden layer 50\n",
        "###using optimizer sgd\n",
        "###using activation function relu in input and hidden layer"
      ]
    },
    {
      "cell_type": "code",
      "metadata": {
        "id": "TLXIXEcem4iT"
      },
      "source": [
        "from tensorflow.keras.models import Sequential\n",
        "from tensorflow.keras.layers import Dense,Activation"
      ],
      "execution_count": 313,
      "outputs": []
    },
    {
      "cell_type": "code",
      "metadata": {
        "id": "eCVx2EE5nPyC"
      },
      "source": [
        "model=Sequential()"
      ],
      "execution_count": 314,
      "outputs": []
    },
    {
      "cell_type": "code",
      "metadata": {
        "id": "Lekaixj4nSCQ"
      },
      "source": [
        "model.add(Dense(10,activation='relu',input_shape=(4,)))"
      ],
      "execution_count": 315,
      "outputs": []
    },
    {
      "cell_type": "code",
      "metadata": {
        "id": "8noN24vQnW7v"
      },
      "source": [
        "model.add(Dense(50,activation='relu'))\n",
        "model.add(Dense(50,activation='relu'))"
      ],
      "execution_count": 316,
      "outputs": []
    },
    {
      "cell_type": "code",
      "metadata": {
        "id": "sHUR9UZ1nZvi"
      },
      "source": [
        "model.add(Dense(3,activation='softmax'))"
      ],
      "execution_count": 317,
      "outputs": []
    },
    {
      "cell_type": "code",
      "metadata": {
        "id": "lLKlFhTJnjX4"
      },
      "source": [
        "model.compile(optimizer='sgd',loss='sparse_categorical_crossentropy',metrics=[\"accuracy\"])"
      ],
      "execution_count": 318,
      "outputs": []
    },
    {
      "cell_type": "code",
      "metadata": {
        "colab": {
          "base_uri": "https://localhost:8080/"
        },
        "id": "46oxj1_4no8X",
        "outputId": "df82a4e0-4e2a-4581-c935-c398d7f915f8"
      },
      "source": [
        "model.fit(x=x_train,y=y_train,validation_data=(x_test,y_test),epochs=50)"
      ],
      "execution_count": 319,
      "outputs": [
        {
          "output_type": "stream",
          "text": [
            "Epoch 1/50\n",
            "4/4 [==============================] - 0s 59ms/step - loss: 1.1305 - accuracy: 0.5429 - val_loss: 1.1183 - val_accuracy: 0.5333\n",
            "Epoch 2/50\n",
            "4/4 [==============================] - 0s 9ms/step - loss: 1.0562 - accuracy: 0.4095 - val_loss: 1.0378 - val_accuracy: 0.5111\n",
            "Epoch 3/50\n",
            "4/4 [==============================] - 0s 9ms/step - loss: 0.9708 - accuracy: 0.4667 - val_loss: 0.9519 - val_accuracy: 0.4889\n",
            "Epoch 4/50\n",
            "4/4 [==============================] - 0s 9ms/step - loss: 0.9079 - accuracy: 0.6000 - val_loss: 0.8828 - val_accuracy: 0.8444\n",
            "Epoch 5/50\n",
            "4/4 [==============================] - 0s 10ms/step - loss: 0.8529 - accuracy: 0.7905 - val_loss: 0.8104 - val_accuracy: 0.9111\n",
            "Epoch 6/50\n",
            "4/4 [==============================] - 0s 10ms/step - loss: 0.8002 - accuracy: 0.9143 - val_loss: 0.7403 - val_accuracy: 0.8222\n",
            "Epoch 7/50\n",
            "4/4 [==============================] - 0s 8ms/step - loss: 0.7606 - accuracy: 0.7333 - val_loss: 0.6827 - val_accuracy: 0.8889\n",
            "Epoch 8/50\n",
            "4/4 [==============================] - 0s 9ms/step - loss: 0.7065 - accuracy: 0.8667 - val_loss: 0.6426 - val_accuracy: 0.7333\n",
            "Epoch 9/50\n",
            "4/4 [==============================] - 0s 9ms/step - loss: 0.6810 - accuracy: 0.7238 - val_loss: 0.5991 - val_accuracy: 0.9778\n",
            "Epoch 10/50\n",
            "4/4 [==============================] - 0s 9ms/step - loss: 0.6464 - accuracy: 0.7714 - val_loss: 0.5732 - val_accuracy: 0.9111\n",
            "Epoch 11/50\n",
            "4/4 [==============================] - 0s 8ms/step - loss: 0.6354 - accuracy: 0.8667 - val_loss: 0.5381 - val_accuracy: 0.9778\n",
            "Epoch 12/50\n",
            "4/4 [==============================] - 0s 12ms/step - loss: 0.5980 - accuracy: 0.8381 - val_loss: 0.5323 - val_accuracy: 0.8222\n",
            "Epoch 13/50\n",
            "4/4 [==============================] - 0s 11ms/step - loss: 0.5892 - accuracy: 0.8095 - val_loss: 0.4937 - val_accuracy: 0.9778\n",
            "Epoch 14/50\n",
            "4/4 [==============================] - 0s 9ms/step - loss: 0.5649 - accuracy: 0.9143 - val_loss: 0.4820 - val_accuracy: 0.9333\n",
            "Epoch 15/50\n",
            "4/4 [==============================] - 0s 9ms/step - loss: 0.5487 - accuracy: 0.9619 - val_loss: 0.4632 - val_accuracy: 0.9333\n",
            "Epoch 16/50\n",
            "4/4 [==============================] - 0s 8ms/step - loss: 0.5315 - accuracy: 0.8762 - val_loss: 0.4468 - val_accuracy: 0.9111\n",
            "Epoch 17/50\n",
            "4/4 [==============================] - 0s 9ms/step - loss: 0.5409 - accuracy: 0.8190 - val_loss: 0.4397 - val_accuracy: 0.7778\n",
            "Epoch 18/50\n",
            "4/4 [==============================] - 0s 9ms/step - loss: 0.5039 - accuracy: 0.8476 - val_loss: 0.4194 - val_accuracy: 0.9778\n",
            "Epoch 19/50\n",
            "4/4 [==============================] - 0s 9ms/step - loss: 0.4909 - accuracy: 0.9143 - val_loss: 0.4151 - val_accuracy: 0.9111\n",
            "Epoch 20/50\n",
            "4/4 [==============================] - 0s 11ms/step - loss: 0.4844 - accuracy: 0.9333 - val_loss: 0.4003 - val_accuracy: 0.9333\n",
            "Epoch 21/50\n",
            "4/4 [==============================] - 0s 10ms/step - loss: 0.4724 - accuracy: 0.9143 - val_loss: 0.3834 - val_accuracy: 0.9778\n",
            "Epoch 22/50\n",
            "4/4 [==============================] - 0s 9ms/step - loss: 0.4730 - accuracy: 0.9238 - val_loss: 0.3734 - val_accuracy: 0.9778\n",
            "Epoch 23/50\n",
            "4/4 [==============================] - 0s 9ms/step - loss: 0.4470 - accuracy: 0.9429 - val_loss: 0.3651 - val_accuracy: 0.9333\n",
            "Epoch 24/50\n",
            "4/4 [==============================] - 0s 9ms/step - loss: 0.4394 - accuracy: 0.9524 - val_loss: 0.3733 - val_accuracy: 0.8222\n",
            "Epoch 25/50\n",
            "4/4 [==============================] - 0s 10ms/step - loss: 0.4343 - accuracy: 0.8476 - val_loss: 0.3477 - val_accuracy: 0.9778\n",
            "Epoch 26/50\n",
            "4/4 [==============================] - 0s 9ms/step - loss: 0.4220 - accuracy: 0.9619 - val_loss: 0.3656 - val_accuracy: 0.8889\n",
            "Epoch 27/50\n",
            "4/4 [==============================] - 0s 9ms/step - loss: 0.4228 - accuracy: 0.8762 - val_loss: 0.3338 - val_accuracy: 0.9333\n",
            "Epoch 28/50\n",
            "4/4 [==============================] - 0s 9ms/step - loss: 0.4107 - accuracy: 0.9429 - val_loss: 0.3270 - val_accuracy: 0.9111\n",
            "Epoch 29/50\n",
            "4/4 [==============================] - 0s 9ms/step - loss: 0.3982 - accuracy: 0.9429 - val_loss: 0.3234 - val_accuracy: 0.9333\n",
            "Epoch 30/50\n",
            "4/4 [==============================] - 0s 10ms/step - loss: 0.3906 - accuracy: 0.9524 - val_loss: 0.3140 - val_accuracy: 0.9778\n",
            "Epoch 31/50\n",
            "4/4 [==============================] - 0s 9ms/step - loss: 0.3834 - accuracy: 0.9619 - val_loss: 0.3201 - val_accuracy: 0.8889\n",
            "Epoch 32/50\n",
            "4/4 [==============================] - 0s 9ms/step - loss: 0.3771 - accuracy: 0.9143 - val_loss: 0.2976 - val_accuracy: 0.9556\n",
            "Epoch 33/50\n",
            "4/4 [==============================] - 0s 9ms/step - loss: 0.3671 - accuracy: 0.9810 - val_loss: 0.2912 - val_accuracy: 0.9556\n",
            "Epoch 34/50\n",
            "4/4 [==============================] - 0s 9ms/step - loss: 0.3650 - accuracy: 0.9714 - val_loss: 0.3073 - val_accuracy: 0.8667\n",
            "Epoch 35/50\n",
            "4/4 [==============================] - 0s 12ms/step - loss: 0.3660 - accuracy: 0.8857 - val_loss: 0.2858 - val_accuracy: 0.9333\n",
            "Epoch 36/50\n",
            "4/4 [==============================] - 0s 9ms/step - loss: 0.3478 - accuracy: 0.9714 - val_loss: 0.2823 - val_accuracy: 0.9778\n",
            "Epoch 37/50\n",
            "4/4 [==============================] - 0s 12ms/step - loss: 0.3560 - accuracy: 0.9143 - val_loss: 0.2714 - val_accuracy: 0.9333\n",
            "Epoch 38/50\n",
            "4/4 [==============================] - 0s 11ms/step - loss: 0.3482 - accuracy: 0.9429 - val_loss: 0.2715 - val_accuracy: 0.9333\n",
            "Epoch 39/50\n",
            "4/4 [==============================] - 0s 13ms/step - loss: 0.3374 - accuracy: 0.9429 - val_loss: 0.2606 - val_accuracy: 0.9556\n",
            "Epoch 40/50\n",
            "4/4 [==============================] - 0s 10ms/step - loss: 0.3490 - accuracy: 0.9238 - val_loss: 0.2567 - val_accuracy: 0.9778\n",
            "Epoch 41/50\n",
            "4/4 [==============================] - 0s 9ms/step - loss: 0.3201 - accuracy: 0.9429 - val_loss: 0.2656 - val_accuracy: 0.9333\n",
            "Epoch 42/50\n",
            "4/4 [==============================] - 0s 12ms/step - loss: 0.3254 - accuracy: 0.9619 - val_loss: 0.2662 - val_accuracy: 0.9111\n",
            "Epoch 43/50\n",
            "4/4 [==============================] - 0s 9ms/step - loss: 0.3162 - accuracy: 0.9238 - val_loss: 0.2871 - val_accuracy: 0.8444\n",
            "Epoch 44/50\n",
            "4/4 [==============================] - 0s 8ms/step - loss: 0.3149 - accuracy: 0.8952 - val_loss: 0.2410 - val_accuracy: 0.9778\n",
            "Epoch 45/50\n",
            "4/4 [==============================] - 0s 11ms/step - loss: 0.3036 - accuracy: 0.9619 - val_loss: 0.2296 - val_accuracy: 0.9778\n",
            "Epoch 46/50\n",
            "4/4 [==============================] - 0s 10ms/step - loss: 0.3038 - accuracy: 0.9524 - val_loss: 0.2398 - val_accuracy: 0.9778\n",
            "Epoch 47/50\n",
            "4/4 [==============================] - 0s 9ms/step - loss: 0.2876 - accuracy: 0.9619 - val_loss: 0.2217 - val_accuracy: 0.9778\n",
            "Epoch 48/50\n",
            "4/4 [==============================] - 0s 10ms/step - loss: 0.2805 - accuracy: 0.9619 - val_loss: 0.2434 - val_accuracy: 0.9111\n",
            "Epoch 49/50\n",
            "4/4 [==============================] - 0s 10ms/step - loss: 0.3016 - accuracy: 0.9143 - val_loss: 0.2178 - val_accuracy: 0.9111\n",
            "Epoch 50/50\n",
            "4/4 [==============================] - 0s 9ms/step - loss: 0.2819 - accuracy: 0.9238 - val_loss: 0.2133 - val_accuracy: 0.9778\n"
          ],
          "name": "stdout"
        },
        {
          "output_type": "execute_result",
          "data": {
            "text/plain": [
              "<tensorflow.python.keras.callbacks.History at 0x7fc3f5f0b150>"
            ]
          },
          "metadata": {
            "tags": []
          },
          "execution_count": 319
        }
      ]
    },
    {
      "cell_type": "code",
      "metadata": {
        "id": "ZR30yTDvn7ZN"
      },
      "source": [
        "loss=pd.DataFrame(model.history.history)"
      ],
      "execution_count": 320,
      "outputs": []
    },
    {
      "cell_type": "code",
      "metadata": {
        "colab": {
          "base_uri": "https://localhost:8080/",
          "height": 282
        },
        "id": "3BT7a0gVr6gS",
        "outputId": "1ac4d51c-43d9-4a7e-ac37-d4f87b8e7508"
      },
      "source": [
        "loss.plot()"
      ],
      "execution_count": 321,
      "outputs": [
        {
          "output_type": "execute_result",
          "data": {
            "text/plain": [
              "<matplotlib.axes._subplots.AxesSubplot at 0x7fc3f35c1210>"
            ]
          },
          "metadata": {
            "tags": []
          },
          "execution_count": 321
        },
        {
          "output_type": "display_data",
          "data": {
            "image/png": "[encoded data removed]",
            "text/plain": [
              "<Figure size 432x288 with 1 Axes>"
            ]
          },
          "metadata": {
            "tags": [],
            "needs_background": "light"
          }
        }
      ]
    },
    {
      "cell_type": "code",
      "metadata": {
        "colab": {
          "base_uri": "https://localhost:8080/"
        },
        "id": "snQ4yw6ir8OE",
        "outputId": "39f49771-db60-4f83-95fc-9e3ac86090fb"
      },
      "source": [
        "y_predict=model.predict_classes(x_test)"
      ],
      "execution_count": 322,
      "outputs": [
        {
          "output_type": "stream",
          "text": [
            "/usr/local/lib/python3.7/dist-packages/tensorflow/python/keras/engine/sequential.py:455: UserWarning: `model.predict_classes()` is deprecated and will be removed after 2021-01-01. Please use instead:* `np.argmax(model.predict(x), axis=-1)`,   if your model does multi-class classification   (e.g. if it uses a `softmax` last-layer activation).* `(model.predict(x) > 0.5).astype(\"int32\")`,   if your model does binary classification   (e.g. if it uses a `sigmoid` last-layer activation).\n",
            "  warnings.warn('`model.predict_classes()` is deprecated and '\n"
          ],
          "name": "stderr"
        }
      ]
    },
    {
      "cell_type": "code",
      "metadata": {
        "colab": {
          "base_uri": "https://localhost:8080/"
        },
        "id": "TTt7xduzsIz1",
        "outputId": "11c8d354-9fe3-4391-f7a9-c00682222257"
      },
      "source": [
        "y_predict"
      ],
      "execution_count": 323,
      "outputs": [
        {
          "output_type": "execute_result",
          "data": {
            "text/plain": [
              "array([1, 0, 2, 1, 1, 0, 1, 2, 2, 1, 2, 0, 0, 0, 0, 1, 2, 1, 1, 2, 0, 2,\n",
              "       0, 2, 2, 2, 2, 2, 0, 0, 0, 0, 1, 0, 0, 2, 1, 0, 0, 0, 2, 1, 1, 0,\n",
              "       0])"
            ]
          },
          "metadata": {
            "tags": []
          },
          "execution_count": 323
        }
      ]
    },
    {
      "cell_type": "code",
      "metadata": {
        "id": "ripyTKzasLFd"
      },
      "source": [
        "from sklearn.metrics import confusion_matrix"
      ],
      "execution_count": 324,
      "outputs": []
    },
    {
      "cell_type": "code",
      "metadata": {
        "id": "gS28GQrBudj0"
      },
      "source": [
        "cm=confusion_matrix(y_predict,y_test)"
      ],
      "execution_count": 325,
      "outputs": []
    },
    {
      "cell_type": "code",
      "metadata": {
        "colab": {
          "base_uri": "https://localhost:8080/"
        },
        "id": "v1yHaxzPuf_T",
        "outputId": "8c0ca038-66f4-48c0-e4d3-fa9aa4c8813a"
      },
      "source": [
        "cm"
      ],
      "execution_count": 326,
      "outputs": [
        {
          "output_type": "execute_result",
          "data": {
            "text/plain": [
              "array([[19,  0,  0],\n",
              "       [ 0, 12,  0],\n",
              "       [ 0,  1, 13]])"
            ]
          },
          "metadata": {
            "tags": []
          },
          "execution_count": 326
        }
      ]
    },
    {
      "cell_type": "code",
      "metadata": {
        "id": "6SOzRJDUuhCs"
      },
      "source": [
        ""
      ],
      "execution_count": 326,
      "outputs": []
    },
    {
      "cell_type": "markdown",
      "metadata": {
        "id": "QGZ8jgmgv3DW"
      },
      "source": [
        "# **Second Model**"
      ]
    },
    {
      "cell_type": "markdown",
      "metadata": {
        "id": "ji0L6jrmykuy"
      },
      "source": [
        "### change neurones in input layer to 15 and in hidden layer to 20 \n",
        "###change optimizer to adam \n",
        "###change activation function to tanh"
      ]
    },
    {
      "cell_type": "code",
      "metadata": {
        "id": "L5qBOm8Tv8BT"
      },
      "source": [
        "model2=Sequential()"
      ],
      "execution_count": 327,
      "outputs": []
    },
    {
      "cell_type": "code",
      "metadata": {
        "id": "PzeE6hG-wYM7"
      },
      "source": [
        "model2.add(Dense(15,activation='tanh',input_shape=(4,)))"
      ],
      "execution_count": 328,
      "outputs": []
    },
    {
      "cell_type": "code",
      "metadata": {
        "id": "h7rtwg0XwmPh"
      },
      "source": [
        "model2.add(Dense(20,activation='tanh'))\n",
        "model2.add(Dense(20,activation='tanh'))"
      ],
      "execution_count": 329,
      "outputs": []
    },
    {
      "cell_type": "code",
      "metadata": {
        "id": "TvOm3XYGxYKB"
      },
      "source": [
        "model2.add(Dense(3,activation='softmax'))"
      ],
      "execution_count": 330,
      "outputs": []
    },
    {
      "cell_type": "code",
      "metadata": {
        "id": "W7KUGznJw2h9"
      },
      "source": [
        "model2.compile(optimizer='adam',loss='sparse_categorical_crossentropy',metrics=[\"accuracy\"])"
      ],
      "execution_count": 331,
      "outputs": []
    },
    {
      "cell_type": "code",
      "metadata": {
        "colab": {
          "base_uri": "https://localhost:8080/"
        },
        "id": "Z40q61DdxCNZ",
        "outputId": "0f9e4a03-771a-4519-b680-e671aa0111df"
      },
      "source": [
        "model2.fit(x=x_train,y=y_train,validation_data=(x_test,y_test),epochs=100)"
      ],
      "execution_count": 332,
      "outputs": [
        {
          "output_type": "stream",
          "text": [
            "Epoch 1/100\n",
            "4/4 [==============================] - 1s 56ms/step - loss: 1.1112 - accuracy: 0.6286 - val_loss: 1.0510 - val_accuracy: 0.7111\n",
            "Epoch 2/100\n",
            "4/4 [==============================] - 0s 9ms/step - loss: 1.0465 - accuracy: 0.6476 - val_loss: 1.0312 - val_accuracy: 0.2889\n",
            "Epoch 3/100\n",
            "4/4 [==============================] - 0s 13ms/step - loss: 1.0105 - accuracy: 0.3905 - val_loss: 1.0229 - val_accuracy: 0.3778\n",
            "Epoch 4/100\n",
            "4/4 [==============================] - 0s 9ms/step - loss: 0.9856 - accuracy: 0.5619 - val_loss: 0.9952 - val_accuracy: 0.5333\n",
            "Epoch 5/100\n",
            "4/4 [==============================] - 0s 10ms/step - loss: 0.9611 - accuracy: 0.6667 - val_loss: 0.9607 - val_accuracy: 0.5778\n",
            "Epoch 6/100\n",
            "4/4 [==============================] - 0s 11ms/step - loss: 0.9312 - accuracy: 0.6571 - val_loss: 0.9221 - val_accuracy: 0.3778\n",
            "Epoch 7/100\n",
            "4/4 [==============================] - 0s 10ms/step - loss: 0.9014 - accuracy: 0.5048 - val_loss: 0.8858 - val_accuracy: 0.6444\n",
            "Epoch 8/100\n",
            "4/4 [==============================] - 0s 9ms/step - loss: 0.8718 - accuracy: 0.6381 - val_loss: 0.8495 - val_accuracy: 0.7111\n",
            "Epoch 9/100\n",
            "4/4 [==============================] - 0s 9ms/step - loss: 0.8401 - accuracy: 0.6762 - val_loss: 0.8042 - val_accuracy: 0.7111\n",
            "Epoch 10/100\n",
            "4/4 [==============================] - 0s 14ms/step - loss: 0.8068 - accuracy: 0.7238 - val_loss: 0.7572 - val_accuracy: 0.7778\n",
            "Epoch 11/100\n",
            "4/4 [==============================] - 0s 10ms/step - loss: 0.7767 - accuracy: 0.7619 - val_loss: 0.7155 - val_accuracy: 0.8000\n",
            "Epoch 12/100\n",
            "4/4 [==============================] - 0s 10ms/step - loss: 0.7443 - accuracy: 0.8381 - val_loss: 0.6804 - val_accuracy: 0.8889\n",
            "Epoch 13/100\n",
            "4/4 [==============================] - 0s 11ms/step - loss: 0.7128 - accuracy: 0.9143 - val_loss: 0.6506 - val_accuracy: 0.9556\n",
            "Epoch 14/100\n",
            "4/4 [==============================] - 0s 9ms/step - loss: 0.6819 - accuracy: 0.9429 - val_loss: 0.6216 - val_accuracy: 0.9111\n",
            "Epoch 15/100\n",
            "4/4 [==============================] - 0s 8ms/step - loss: 0.6529 - accuracy: 0.9238 - val_loss: 0.5875 - val_accuracy: 0.9111\n",
            "Epoch 16/100\n",
            "4/4 [==============================] - 0s 15ms/step - loss: 0.6230 - accuracy: 0.9333 - val_loss: 0.5553 - val_accuracy: 0.9111\n",
            "Epoch 17/100\n",
            "4/4 [==============================] - 0s 10ms/step - loss: 0.5972 - accuracy: 0.9333 - val_loss: 0.5250 - val_accuracy: 0.9111\n",
            "Epoch 18/100\n",
            "4/4 [==============================] - 0s 10ms/step - loss: 0.5710 - accuracy: 0.9333 - val_loss: 0.4975 - val_accuracy: 0.9111\n",
            "Epoch 19/100\n",
            "4/4 [==============================] - 0s 11ms/step - loss: 0.5491 - accuracy: 0.9238 - val_loss: 0.4749 - val_accuracy: 0.8222\n",
            "Epoch 20/100\n",
            "4/4 [==============================] - 0s 10ms/step - loss: 0.5302 - accuracy: 0.8381 - val_loss: 0.4554 - val_accuracy: 0.8222\n",
            "Epoch 21/100\n",
            "4/4 [==============================] - 0s 9ms/step - loss: 0.5114 - accuracy: 0.8762 - val_loss: 0.4363 - val_accuracy: 0.9111\n",
            "Epoch 22/100\n",
            "4/4 [==============================] - 0s 11ms/step - loss: 0.4928 - accuracy: 0.9238 - val_loss: 0.4199 - val_accuracy: 0.9333\n",
            "Epoch 23/100\n",
            "4/4 [==============================] - 0s 9ms/step - loss: 0.4768 - accuracy: 0.9429 - val_loss: 0.4042 - val_accuracy: 1.0000\n",
            "Epoch 24/100\n",
            "4/4 [==============================] - 0s 12ms/step - loss: 0.4614 - accuracy: 0.9619 - val_loss: 0.3901 - val_accuracy: 1.0000\n",
            "Epoch 25/100\n",
            "4/4 [==============================] - 0s 10ms/step - loss: 0.4487 - accuracy: 0.9714 - val_loss: 0.3757 - val_accuracy: 1.0000\n",
            "Epoch 26/100\n",
            "4/4 [==============================] - 0s 13ms/step - loss: 0.4329 - accuracy: 0.9714 - val_loss: 0.3631 - val_accuracy: 0.9778\n",
            "Epoch 27/100\n",
            "4/4 [==============================] - 0s 11ms/step - loss: 0.4190 - accuracy: 0.9524 - val_loss: 0.3502 - val_accuracy: 0.9778\n",
            "Epoch 28/100\n",
            "4/4 [==============================] - 0s 10ms/step - loss: 0.4055 - accuracy: 0.9524 - val_loss: 0.3377 - val_accuracy: 0.9778\n",
            "Epoch 29/100\n",
            "4/4 [==============================] - 0s 10ms/step - loss: 0.3920 - accuracy: 0.9524 - val_loss: 0.3234 - val_accuracy: 1.0000\n",
            "Epoch 30/100\n",
            "4/4 [==============================] - 0s 18ms/step - loss: 0.3791 - accuracy: 0.9619 - val_loss: 0.3107 - val_accuracy: 1.0000\n",
            "Epoch 31/100\n",
            "4/4 [==============================] - 0s 11ms/step - loss: 0.3653 - accuracy: 0.9619 - val_loss: 0.2987 - val_accuracy: 1.0000\n",
            "Epoch 32/100\n",
            "4/4 [==============================] - 0s 11ms/step - loss: 0.3528 - accuracy: 0.9619 - val_loss: 0.2864 - val_accuracy: 1.0000\n",
            "Epoch 33/100\n",
            "4/4 [==============================] - 0s 10ms/step - loss: 0.3401 - accuracy: 0.9619 - val_loss: 0.2743 - val_accuracy: 1.0000\n",
            "Epoch 34/100\n",
            "4/4 [==============================] - 0s 9ms/step - loss: 0.3267 - accuracy: 0.9619 - val_loss: 0.2647 - val_accuracy: 0.9778\n",
            "Epoch 35/100\n",
            "4/4 [==============================] - 0s 9ms/step - loss: 0.3162 - accuracy: 0.9524 - val_loss: 0.2561 - val_accuracy: 0.9778\n",
            "Epoch 36/100\n",
            "4/4 [==============================] - 0s 9ms/step - loss: 0.3034 - accuracy: 0.9619 - val_loss: 0.2414 - val_accuracy: 0.9778\n",
            "Epoch 37/100\n",
            "4/4 [==============================] - 0s 9ms/step - loss: 0.2908 - accuracy: 0.9714 - val_loss: 0.2293 - val_accuracy: 1.0000\n",
            "Epoch 38/100\n",
            "4/4 [==============================] - 0s 9ms/step - loss: 0.2813 - accuracy: 0.9619 - val_loss: 0.2193 - val_accuracy: 1.0000\n",
            "Epoch 39/100\n",
            "4/4 [==============================] - 0s 11ms/step - loss: 0.2708 - accuracy: 0.9714 - val_loss: 0.2099 - val_accuracy: 1.0000\n",
            "Epoch 40/100\n",
            "4/4 [==============================] - 0s 12ms/step - loss: 0.2626 - accuracy: 0.9524 - val_loss: 0.2021 - val_accuracy: 0.9778\n",
            "Epoch 41/100\n",
            "4/4 [==============================] - 0s 10ms/step - loss: 0.2514 - accuracy: 0.9619 - val_loss: 0.1923 - val_accuracy: 1.0000\n",
            "Epoch 42/100\n",
            "4/4 [==============================] - 0s 12ms/step - loss: 0.2436 - accuracy: 0.9619 - val_loss: 0.1840 - val_accuracy: 1.0000\n",
            "Epoch 43/100\n",
            "4/4 [==============================] - 0s 9ms/step - loss: 0.2332 - accuracy: 0.9714 - val_loss: 0.1782 - val_accuracy: 0.9778\n",
            "Epoch 44/100\n",
            "4/4 [==============================] - 0s 10ms/step - loss: 0.2246 - accuracy: 0.9714 - val_loss: 0.1713 - val_accuracy: 0.9778\n",
            "Epoch 45/100\n",
            "4/4 [==============================] - 0s 10ms/step - loss: 0.2170 - accuracy: 0.9619 - val_loss: 0.1640 - val_accuracy: 0.9778\n",
            "Epoch 46/100\n",
            "4/4 [==============================] - 0s 10ms/step - loss: 0.2100 - accuracy: 0.9714 - val_loss: 0.1576 - val_accuracy: 0.9778\n",
            "Epoch 47/100\n",
            "4/4 [==============================] - 0s 8ms/step - loss: 0.2040 - accuracy: 0.9619 - val_loss: 0.1500 - val_accuracy: 1.0000\n",
            "Epoch 48/100\n",
            "4/4 [==============================] - 0s 9ms/step - loss: 0.1972 - accuracy: 0.9524 - val_loss: 0.1460 - val_accuracy: 0.9778\n",
            "Epoch 49/100\n",
            "4/4 [==============================] - 0s 12ms/step - loss: 0.1906 - accuracy: 0.9524 - val_loss: 0.1386 - val_accuracy: 1.0000\n",
            "Epoch 50/100\n",
            "4/4 [==============================] - 0s 9ms/step - loss: 0.1846 - accuracy: 0.9619 - val_loss: 0.1336 - val_accuracy: 1.0000\n",
            "Epoch 51/100\n",
            "4/4 [==============================] - 0s 9ms/step - loss: 0.1809 - accuracy: 0.9714 - val_loss: 0.1290 - val_accuracy: 1.0000\n",
            "Epoch 52/100\n",
            "4/4 [==============================] - 0s 10ms/step - loss: 0.1750 - accuracy: 0.9714 - val_loss: 0.1251 - val_accuracy: 0.9778\n",
            "Epoch 53/100\n",
            "4/4 [==============================] - 0s 10ms/step - loss: 0.1700 - accuracy: 0.9619 - val_loss: 0.1219 - val_accuracy: 0.9778\n",
            "Epoch 54/100\n",
            "4/4 [==============================] - 0s 10ms/step - loss: 0.1670 - accuracy: 0.9619 - val_loss: 0.1167 - val_accuracy: 1.0000\n",
            "Epoch 55/100\n",
            "4/4 [==============================] - 0s 9ms/step - loss: 0.1618 - accuracy: 0.9714 - val_loss: 0.1129 - val_accuracy: 1.0000\n",
            "Epoch 56/100\n",
            "4/4 [==============================] - 0s 9ms/step - loss: 0.1578 - accuracy: 0.9714 - val_loss: 0.1094 - val_accuracy: 0.9778\n",
            "Epoch 57/100\n",
            "4/4 [==============================] - 0s 9ms/step - loss: 0.1539 - accuracy: 0.9619 - val_loss: 0.1079 - val_accuracy: 0.9778\n",
            "Epoch 58/100\n",
            "4/4 [==============================] - 0s 10ms/step - loss: 0.1505 - accuracy: 0.9619 - val_loss: 0.1039 - val_accuracy: 0.9778\n",
            "Epoch 59/100\n",
            "4/4 [==============================] - 0s 11ms/step - loss: 0.1452 - accuracy: 0.9619 - val_loss: 0.0996 - val_accuracy: 1.0000\n",
            "Epoch 60/100\n",
            "4/4 [==============================] - 0s 10ms/step - loss: 0.1464 - accuracy: 0.9524 - val_loss: 0.0976 - val_accuracy: 1.0000\n",
            "Epoch 61/100\n",
            "4/4 [==============================] - 0s 11ms/step - loss: 0.1420 - accuracy: 0.9714 - val_loss: 0.0944 - val_accuracy: 0.9778\n",
            "Epoch 62/100\n",
            "4/4 [==============================] - 0s 11ms/step - loss: 0.1383 - accuracy: 0.9714 - val_loss: 0.0919 - val_accuracy: 1.0000\n",
            "Epoch 63/100\n",
            "4/4 [==============================] - 0s 11ms/step - loss: 0.1349 - accuracy: 0.9714 - val_loss: 0.0903 - val_accuracy: 1.0000\n",
            "Epoch 64/100\n",
            "4/4 [==============================] - 0s 10ms/step - loss: 0.1339 - accuracy: 0.9619 - val_loss: 0.0875 - val_accuracy: 0.9778\n",
            "Epoch 65/100\n",
            "4/4 [==============================] - 0s 10ms/step - loss: 0.1294 - accuracy: 0.9619 - val_loss: 0.0857 - val_accuracy: 0.9778\n",
            "Epoch 66/100\n",
            "4/4 [==============================] - 0s 11ms/step - loss: 0.1259 - accuracy: 0.9619 - val_loss: 0.0837 - val_accuracy: 0.9778\n",
            "Epoch 67/100\n",
            "4/4 [==============================] - 0s 9ms/step - loss: 0.1250 - accuracy: 0.9714 - val_loss: 0.0822 - val_accuracy: 1.0000\n",
            "Epoch 68/100\n",
            "4/4 [==============================] - 0s 11ms/step - loss: 0.1225 - accuracy: 0.9619 - val_loss: 0.0804 - val_accuracy: 0.9778\n",
            "Epoch 69/100\n",
            "4/4 [==============================] - 0s 10ms/step - loss: 0.1247 - accuracy: 0.9524 - val_loss: 0.0807 - val_accuracy: 0.9778\n",
            "Epoch 70/100\n",
            "4/4 [==============================] - 0s 10ms/step - loss: 0.1199 - accuracy: 0.9619 - val_loss: 0.0773 - val_accuracy: 0.9778\n",
            "Epoch 71/100\n",
            "4/4 [==============================] - 0s 9ms/step - loss: 0.1161 - accuracy: 0.9619 - val_loss: 0.0754 - val_accuracy: 0.9778\n",
            "Epoch 72/100\n",
            "4/4 [==============================] - 0s 10ms/step - loss: 0.1141 - accuracy: 0.9619 - val_loss: 0.0749 - val_accuracy: 1.0000\n",
            "Epoch 73/100\n",
            "4/4 [==============================] - 0s 9ms/step - loss: 0.1155 - accuracy: 0.9619 - val_loss: 0.0748 - val_accuracy: 1.0000\n",
            "Epoch 74/100\n",
            "4/4 [==============================] - 0s 9ms/step - loss: 0.1119 - accuracy: 0.9714 - val_loss: 0.0716 - val_accuracy: 0.9778\n",
            "Epoch 75/100\n",
            "4/4 [==============================] - 0s 11ms/step - loss: 0.1116 - accuracy: 0.9619 - val_loss: 0.0756 - val_accuracy: 0.9778\n",
            "Epoch 76/100\n",
            "4/4 [==============================] - 0s 10ms/step - loss: 0.1138 - accuracy: 0.9619 - val_loss: 0.0707 - val_accuracy: 0.9778\n",
            "Epoch 77/100\n",
            "4/4 [==============================] - 0s 10ms/step - loss: 0.1055 - accuracy: 0.9619 - val_loss: 0.0705 - val_accuracy: 1.0000\n",
            "Epoch 78/100\n",
            "4/4 [==============================] - 0s 9ms/step - loss: 0.1205 - accuracy: 0.9714 - val_loss: 0.0750 - val_accuracy: 1.0000\n",
            "Epoch 79/100\n",
            "4/4 [==============================] - 0s 9ms/step - loss: 0.1055 - accuracy: 0.9714 - val_loss: 0.0675 - val_accuracy: 0.9778\n",
            "Epoch 80/100\n",
            "4/4 [==============================] - 0s 9ms/step - loss: 0.1070 - accuracy: 0.9524 - val_loss: 0.0775 - val_accuracy: 0.9778\n",
            "Epoch 81/100\n",
            "4/4 [==============================] - 0s 9ms/step - loss: 0.1187 - accuracy: 0.9619 - val_loss: 0.0741 - val_accuracy: 0.9778\n",
            "Epoch 82/100\n",
            "4/4 [==============================] - 0s 10ms/step - loss: 0.1094 - accuracy: 0.9619 - val_loss: 0.0648 - val_accuracy: 0.9778\n",
            "Epoch 83/100\n",
            "4/4 [==============================] - 0s 9ms/step - loss: 0.1042 - accuracy: 0.9524 - val_loss: 0.0694 - val_accuracy: 1.0000\n",
            "Epoch 84/100\n",
            "4/4 [==============================] - 0s 9ms/step - loss: 0.1123 - accuracy: 0.9714 - val_loss: 0.0678 - val_accuracy: 1.0000\n",
            "Epoch 85/100\n",
            "4/4 [==============================] - 0s 10ms/step - loss: 0.1051 - accuracy: 0.9619 - val_loss: 0.0638 - val_accuracy: 0.9778\n",
            "Epoch 86/100\n",
            "4/4 [==============================] - 0s 9ms/step - loss: 0.1085 - accuracy: 0.9619 - val_loss: 0.0657 - val_accuracy: 0.9778\n",
            "Epoch 87/100\n",
            "4/4 [==============================] - 0s 10ms/step - loss: 0.1020 - accuracy: 0.9714 - val_loss: 0.0630 - val_accuracy: 1.0000\n",
            "Epoch 88/100\n",
            "4/4 [==============================] - 0s 10ms/step - loss: 0.1053 - accuracy: 0.9714 - val_loss: 0.0653 - val_accuracy: 1.0000\n",
            "Epoch 89/100\n",
            "4/4 [==============================] - 0s 10ms/step - loss: 0.0975 - accuracy: 0.9714 - val_loss: 0.0591 - val_accuracy: 0.9778\n",
            "Epoch 90/100\n",
            "4/4 [==============================] - 0s 11ms/step - loss: 0.0970 - accuracy: 0.9524 - val_loss: 0.0637 - val_accuracy: 0.9778\n",
            "Epoch 91/100\n",
            "4/4 [==============================] - 0s 9ms/step - loss: 0.1000 - accuracy: 0.9619 - val_loss: 0.0589 - val_accuracy: 0.9778\n",
            "Epoch 92/100\n",
            "4/4 [==============================] - 0s 10ms/step - loss: 0.0979 - accuracy: 0.9619 - val_loss: 0.0591 - val_accuracy: 1.0000\n",
            "Epoch 93/100\n",
            "4/4 [==============================] - 0s 9ms/step - loss: 0.0971 - accuracy: 0.9714 - val_loss: 0.0616 - val_accuracy: 1.0000\n",
            "Epoch 94/100\n",
            "4/4 [==============================] - 0s 9ms/step - loss: 0.0973 - accuracy: 0.9714 - val_loss: 0.0573 - val_accuracy: 1.0000\n",
            "Epoch 95/100\n",
            "4/4 [==============================] - 0s 10ms/step - loss: 0.0940 - accuracy: 0.9524 - val_loss: 0.0551 - val_accuracy: 0.9778\n",
            "Epoch 96/100\n",
            "4/4 [==============================] - 0s 9ms/step - loss: 0.0902 - accuracy: 0.9619 - val_loss: 0.0548 - val_accuracy: 0.9778\n",
            "Epoch 97/100\n",
            "4/4 [==============================] - 0s 9ms/step - loss: 0.0892 - accuracy: 0.9619 - val_loss: 0.0551 - val_accuracy: 0.9778\n",
            "Epoch 98/100\n",
            "4/4 [==============================] - 0s 11ms/step - loss: 0.0895 - accuracy: 0.9810 - val_loss: 0.0550 - val_accuracy: 0.9778\n",
            "Epoch 99/100\n",
            "4/4 [==============================] - 0s 9ms/step - loss: 0.0899 - accuracy: 0.9714 - val_loss: 0.0550 - val_accuracy: 1.0000\n",
            "Epoch 100/100\n",
            "4/4 [==============================] - 0s 9ms/step - loss: 0.0889 - accuracy: 0.9619 - val_loss: 0.0533 - val_accuracy: 0.9778\n"
          ],
          "name": "stdout"
        },
        {
          "output_type": "execute_result",
          "data": {
            "text/plain": [
              "<tensorflow.python.keras.callbacks.History at 0x7fc3f44f8190>"
            ]
          },
          "metadata": {
            "tags": []
          },
          "execution_count": 332
        }
      ]
    },
    {
      "cell_type": "code",
      "metadata": {
        "id": "WWN5tPdWxNNG"
      },
      "source": [
        "loss2=pd.DataFrame(model2.history.history)"
      ],
      "execution_count": 333,
      "outputs": []
    },
    {
      "cell_type": "code",
      "metadata": {
        "colab": {
          "base_uri": "https://localhost:8080/",
          "height": 282
        },
        "id": "yWqGfbV3x_dk",
        "outputId": "6fb3ee07-8371-4276-beee-a1fd1258d7c8"
      },
      "source": [
        "loss2.plot()"
      ],
      "execution_count": 334,
      "outputs": [
        {
          "output_type": "execute_result",
          "data": {
            "text/plain": [
              "<matplotlib.axes._subplots.AxesSubplot at 0x7fc3f4563cd0>"
            ]
          },
          "metadata": {
            "tags": []
          },
          "execution_count": 334
        },
        {
          "output_type": "display_data",
          "data": {
            "image/png": "[encoded data removed]",
            "text/plain": [
              "<Figure size 432x288 with 1 Axes>"
            ]
          },
          "metadata": {
            "tags": [],
            "needs_background": "light"
          }
        }
      ]
    },
    {
      "cell_type": "code",
      "metadata": {
        "colab": {
          "base_uri": "https://localhost:8080/"
        },
        "id": "nGq0Jr_IyC_0",
        "outputId": "a045c584-dc97-41c6-b771-93230c89bd94"
      },
      "source": [
        "y_predict2=model2.predict_classes(x_test)"
      ],
      "execution_count": 335,
      "outputs": [
        {
          "output_type": "stream",
          "text": [
            "/usr/local/lib/python3.7/dist-packages/tensorflow/python/keras/engine/sequential.py:455: UserWarning: `model.predict_classes()` is deprecated and will be removed after 2021-01-01. Please use instead:* `np.argmax(model.predict(x), axis=-1)`,   if your model does multi-class classification   (e.g. if it uses a `softmax` last-layer activation).* `(model.predict(x) > 0.5).astype(\"int32\")`,   if your model does binary classification   (e.g. if it uses a `sigmoid` last-layer activation).\n",
            "  warnings.warn('`model.predict_classes()` is deprecated and '\n"
          ],
          "name": "stderr"
        }
      ]
    },
    {
      "cell_type": "code",
      "metadata": {
        "colab": {
          "base_uri": "https://localhost:8080/"
        },
        "id": "E3h8c8VR0hA-",
        "outputId": "4d10d955-b936-4628-fe69-ee01482de49c"
      },
      "source": [
        "y_predict2"
      ],
      "execution_count": 336,
      "outputs": [
        {
          "output_type": "execute_result",
          "data": {
            "text/plain": [
              "array([1, 0, 2, 1, 1, 0, 1, 2, 2, 1, 2, 0, 0, 0, 0, 1, 2, 1, 1, 2, 0, 2,\n",
              "       0, 2, 2, 2, 2, 2, 0, 0, 0, 0, 1, 0, 0, 2, 1, 0, 0, 0, 2, 1, 1, 0,\n",
              "       0])"
            ]
          },
          "metadata": {
            "tags": []
          },
          "execution_count": 336
        }
      ]
    },
    {
      "cell_type": "code",
      "metadata": {
        "id": "RirW7NEI0rrQ"
      },
      "source": [
        "cm2=confusion_matrix(y_predict2,y_test)"
      ],
      "execution_count": 337,
      "outputs": []
    },
    {
      "cell_type": "code",
      "metadata": {
        "colab": {
          "base_uri": "https://localhost:8080/"
        },
        "id": "En4hZpDB0znS",
        "outputId": "eda4a5cc-a27e-4cbb-e5bc-bcab63cc9dc3"
      },
      "source": [
        "cm2"
      ],
      "execution_count": 338,
      "outputs": [
        {
          "output_type": "execute_result",
          "data": {
            "text/plain": [
              "array([[19,  0,  0],\n",
              "       [ 0, 12,  0],\n",
              "       [ 0,  1, 13]])"
            ]
          },
          "metadata": {
            "tags": []
          },
          "execution_count": 338
        }
      ]
    },
    {
      "cell_type": "code",
      "metadata": {
        "id": "FjPNauuy005J"
      },
      "source": [
        ""
      ],
      "execution_count": 338,
      "outputs": []
    },
    {
      "cell_type": "markdown",
      "metadata": {
        "id": "YvVZjFMo1HV4"
      },
      "source": [
        "#**Third Model**"
      ]
    },
    {
      "cell_type": "markdown",
      "metadata": {
        "id": "vrv4LBPU1a66"
      },
      "source": [
        "###change neurones in input layer to 20 and in hidden layer to 10\n",
        "###change activation function to sigmoid\n",
        "\n",
        "\n"
      ]
    },
    {
      "cell_type": "code",
      "metadata": {
        "id": "1oAbmgzY1mMP"
      },
      "source": [
        "model3=Sequential()"
      ],
      "execution_count": 339,
      "outputs": []
    },
    {
      "cell_type": "code",
      "metadata": {
        "id": "Nn7TuOcr1sHa"
      },
      "source": [
        "model3.add(Dense(20,activation='sigmoid',input_shape=(4,)))"
      ],
      "execution_count": 340,
      "outputs": []
    },
    {
      "cell_type": "code",
      "metadata": {
        "id": "VZye7O5Z2V0f"
      },
      "source": [
        "model3.add(Dense(10,activation='sigmoid'))\n",
        "model3.add(Dense(10,activation='sigmoid'))"
      ],
      "execution_count": 341,
      "outputs": []
    },
    {
      "cell_type": "code",
      "metadata": {
        "id": "EO9Mjes52lk4"
      },
      "source": [
        "model3.add(Dense(3,activation='softmax'))"
      ],
      "execution_count": 342,
      "outputs": []
    },
    {
      "cell_type": "code",
      "metadata": {
        "id": "ZmzUDXj22wpR"
      },
      "source": [
        "model3.compile(optimizer='adam',loss='sparse_categorical_crossentropy',metrics=[\"accuracy\"])"
      ],
      "execution_count": 343,
      "outputs": []
    },
    {
      "cell_type": "code",
      "metadata": {
        "colab": {
          "base_uri": "https://localhost:8080/"
        },
        "id": "b6L9tbVY2-EV",
        "outputId": "cc502188-790e-4840-886c-904096a2e0c1"
      },
      "source": [
        "model3.fit(x=x_train,y=y_train,validation_data=(x_test,y_test),epochs=100)"
      ],
      "execution_count": 344,
      "outputs": [
        {
          "output_type": "stream",
          "text": [
            "Epoch 1/100\n",
            "4/4 [==============================] - 1s 54ms/step - loss: 1.1344 - accuracy: 0.2952 - val_loss: 1.0845 - val_accuracy: 0.4222\n",
            "Epoch 2/100\n",
            "4/4 [==============================] - 0s 9ms/step - loss: 1.1267 - accuracy: 0.2952 - val_loss: 1.0846 - val_accuracy: 0.4222\n",
            "Epoch 3/100\n",
            "4/4 [==============================] - 0s 8ms/step - loss: 1.1222 - accuracy: 0.2952 - val_loss: 1.0854 - val_accuracy: 0.4222\n",
            "Epoch 4/100\n",
            "4/4 [==============================] - 0s 9ms/step - loss: 1.1168 - accuracy: 0.2952 - val_loss: 1.0866 - val_accuracy: 0.4222\n",
            "Epoch 5/100\n",
            "4/4 [==============================] - 0s 10ms/step - loss: 1.1121 - accuracy: 0.2952 - val_loss: 1.0879 - val_accuracy: 0.4222\n",
            "Epoch 6/100\n",
            "4/4 [==============================] - 0s 9ms/step - loss: 1.1087 - accuracy: 0.2952 - val_loss: 1.0895 - val_accuracy: 0.4222\n",
            "Epoch 7/100\n",
            "4/4 [==============================] - 0s 9ms/step - loss: 1.1050 - accuracy: 0.2952 - val_loss: 1.0911 - val_accuracy: 0.4222\n",
            "Epoch 8/100\n",
            "4/4 [==============================] - 0s 9ms/step - loss: 1.1025 - accuracy: 0.2952 - val_loss: 1.0927 - val_accuracy: 0.4222\n",
            "Epoch 9/100\n",
            "4/4 [==============================] - 0s 9ms/step - loss: 1.1007 - accuracy: 0.2952 - val_loss: 1.0947 - val_accuracy: 0.4222\n",
            "Epoch 10/100\n",
            "4/4 [==============================] - 0s 9ms/step - loss: 1.0987 - accuracy: 0.4286 - val_loss: 1.0962 - val_accuracy: 0.2889\n",
            "Epoch 11/100\n",
            "4/4 [==============================] - 0s 9ms/step - loss: 1.0974 - accuracy: 0.3524 - val_loss: 1.0975 - val_accuracy: 0.2889\n",
            "Epoch 12/100\n",
            "4/4 [==============================] - 0s 9ms/step - loss: 1.0959 - accuracy: 0.3524 - val_loss: 1.0983 - val_accuracy: 0.2889\n",
            "Epoch 13/100\n",
            "4/4 [==============================] - 0s 9ms/step - loss: 1.0952 - accuracy: 0.3524 - val_loss: 1.0994 - val_accuracy: 0.2889\n",
            "Epoch 14/100\n",
            "4/4 [==============================] - 0s 10ms/step - loss: 1.0942 - accuracy: 0.3524 - val_loss: 1.1001 - val_accuracy: 0.2889\n",
            "Epoch 15/100\n",
            "4/4 [==============================] - 0s 9ms/step - loss: 1.0933 - accuracy: 0.3524 - val_loss: 1.1003 - val_accuracy: 0.2889\n",
            "Epoch 16/100\n",
            "4/4 [==============================] - 0s 10ms/step - loss: 1.0922 - accuracy: 0.3524 - val_loss: 1.1001 - val_accuracy: 0.2889\n",
            "Epoch 17/100\n",
            "4/4 [==============================] - 0s 8ms/step - loss: 1.0917 - accuracy: 0.3524 - val_loss: 1.1000 - val_accuracy: 0.2889\n",
            "Epoch 18/100\n",
            "4/4 [==============================] - 0s 11ms/step - loss: 1.0909 - accuracy: 0.3524 - val_loss: 1.0997 - val_accuracy: 0.2889\n",
            "Epoch 19/100\n",
            "4/4 [==============================] - 0s 11ms/step - loss: 1.0902 - accuracy: 0.3524 - val_loss: 1.1004 - val_accuracy: 0.2889\n",
            "Epoch 20/100\n",
            "4/4 [==============================] - 0s 11ms/step - loss: 1.0894 - accuracy: 0.3524 - val_loss: 1.1015 - val_accuracy: 0.2889\n",
            "Epoch 21/100\n",
            "4/4 [==============================] - 0s 9ms/step - loss: 1.0885 - accuracy: 0.3524 - val_loss: 1.1023 - val_accuracy: 0.2889\n",
            "Epoch 22/100\n",
            "4/4 [==============================] - 0s 12ms/step - loss: 1.0874 - accuracy: 0.3524 - val_loss: 1.1021 - val_accuracy: 0.2889\n",
            "Epoch 23/100\n",
            "4/4 [==============================] - 0s 11ms/step - loss: 1.0866 - accuracy: 0.3524 - val_loss: 1.1021 - val_accuracy: 0.2889\n",
            "Epoch 24/100\n",
            "4/4 [==============================] - 0s 10ms/step - loss: 1.0859 - accuracy: 0.3524 - val_loss: 1.1023 - val_accuracy: 0.2889\n",
            "Epoch 25/100\n",
            "4/4 [==============================] - 0s 9ms/step - loss: 1.0851 - accuracy: 0.3524 - val_loss: 1.1021 - val_accuracy: 0.2889\n",
            "Epoch 26/100\n",
            "4/4 [==============================] - 0s 9ms/step - loss: 1.0842 - accuracy: 0.3524 - val_loss: 1.1008 - val_accuracy: 0.2889\n",
            "Epoch 27/100\n",
            "4/4 [==============================] - 0s 11ms/step - loss: 1.0832 - accuracy: 0.3524 - val_loss: 1.0988 - val_accuracy: 0.2889\n",
            "Epoch 28/100\n",
            "4/4 [==============================] - 0s 11ms/step - loss: 1.0826 - accuracy: 0.3524 - val_loss: 1.0961 - val_accuracy: 0.2889\n",
            "Epoch 29/100\n",
            "4/4 [==============================] - 0s 12ms/step - loss: 1.0815 - accuracy: 0.3524 - val_loss: 1.0937 - val_accuracy: 0.2889\n",
            "Epoch 30/100\n",
            "4/4 [==============================] - 0s 11ms/step - loss: 1.0804 - accuracy: 0.3524 - val_loss: 1.0919 - val_accuracy: 0.2889\n",
            "Epoch 31/100\n",
            "4/4 [==============================] - 0s 11ms/step - loss: 1.0794 - accuracy: 0.3524 - val_loss: 1.0905 - val_accuracy: 0.2889\n",
            "Epoch 32/100\n",
            "4/4 [==============================] - 0s 11ms/step - loss: 1.0783 - accuracy: 0.3524 - val_loss: 1.0891 - val_accuracy: 0.2889\n",
            "Epoch 33/100\n",
            "4/4 [==============================] - 0s 9ms/step - loss: 1.0770 - accuracy: 0.3524 - val_loss: 1.0879 - val_accuracy: 0.2889\n",
            "Epoch 34/100\n",
            "4/4 [==============================] - 0s 9ms/step - loss: 1.0758 - accuracy: 0.3524 - val_loss: 1.0860 - val_accuracy: 0.2889\n",
            "Epoch 35/100\n",
            "4/4 [==============================] - 0s 10ms/step - loss: 1.0745 - accuracy: 0.3524 - val_loss: 1.0845 - val_accuracy: 0.2889\n",
            "Epoch 36/100\n",
            "4/4 [==============================] - 0s 11ms/step - loss: 1.0728 - accuracy: 0.3524 - val_loss: 1.0821 - val_accuracy: 0.2889\n",
            "Epoch 37/100\n",
            "4/4 [==============================] - 0s 9ms/step - loss: 1.0712 - accuracy: 0.3524 - val_loss: 1.0788 - val_accuracy: 0.2889\n",
            "Epoch 38/100\n",
            "4/4 [==============================] - 0s 9ms/step - loss: 1.0697 - accuracy: 0.3524 - val_loss: 1.0753 - val_accuracy: 0.2889\n",
            "Epoch 39/100\n",
            "4/4 [==============================] - 0s 9ms/step - loss: 1.0685 - accuracy: 0.3524 - val_loss: 1.0721 - val_accuracy: 0.3111\n",
            "Epoch 40/100\n",
            "4/4 [==============================] - 0s 9ms/step - loss: 1.0663 - accuracy: 0.3714 - val_loss: 1.0701 - val_accuracy: 0.3556\n",
            "Epoch 41/100\n",
            "4/4 [==============================] - 0s 9ms/step - loss: 1.0646 - accuracy: 0.3810 - val_loss: 1.0686 - val_accuracy: 0.3556\n",
            "Epoch 42/100\n",
            "4/4 [==============================] - 0s 8ms/step - loss: 1.0622 - accuracy: 0.4286 - val_loss: 1.0656 - val_accuracy: 0.5556\n",
            "Epoch 43/100\n",
            "4/4 [==============================] - 0s 8ms/step - loss: 1.0600 - accuracy: 0.5714 - val_loss: 1.0626 - val_accuracy: 0.6889\n",
            "Epoch 44/100\n",
            "4/4 [==============================] - 0s 9ms/step - loss: 1.0576 - accuracy: 0.6095 - val_loss: 1.0596 - val_accuracy: 0.7111\n",
            "Epoch 45/100\n",
            "4/4 [==============================] - 0s 9ms/step - loss: 1.0551 - accuracy: 0.6190 - val_loss: 1.0571 - val_accuracy: 0.7111\n",
            "Epoch 46/100\n",
            "4/4 [==============================] - 0s 9ms/step - loss: 1.0523 - accuracy: 0.6095 - val_loss: 1.0551 - val_accuracy: 0.6889\n",
            "Epoch 47/100\n",
            "4/4 [==============================] - 0s 10ms/step - loss: 1.0494 - accuracy: 0.6000 - val_loss: 1.0518 - val_accuracy: 0.7111\n",
            "Epoch 48/100\n",
            "4/4 [==============================] - 0s 9ms/step - loss: 1.0464 - accuracy: 0.6286 - val_loss: 1.0472 - val_accuracy: 0.7111\n",
            "Epoch 49/100\n",
            "4/4 [==============================] - 0s 9ms/step - loss: 1.0431 - accuracy: 0.6476 - val_loss: 1.0427 - val_accuracy: 0.7111\n",
            "Epoch 50/100\n",
            "4/4 [==============================] - 0s 9ms/step - loss: 1.0398 - accuracy: 0.6476 - val_loss: 1.0385 - val_accuracy: 0.7111\n",
            "Epoch 51/100\n",
            "4/4 [==============================] - 0s 8ms/step - loss: 1.0360 - accuracy: 0.6476 - val_loss: 1.0346 - val_accuracy: 0.7111\n",
            "Epoch 52/100\n",
            "4/4 [==============================] - 0s 8ms/step - loss: 1.0322 - accuracy: 0.6476 - val_loss: 1.0314 - val_accuracy: 0.7111\n",
            "Epoch 53/100\n",
            "4/4 [==============================] - 0s 8ms/step - loss: 1.0282 - accuracy: 0.6476 - val_loss: 1.0278 - val_accuracy: 0.7111\n",
            "Epoch 54/100\n",
            "4/4 [==============================] - 0s 8ms/step - loss: 1.0240 - accuracy: 0.6476 - val_loss: 1.0231 - val_accuracy: 0.7111\n",
            "Epoch 55/100\n",
            "4/4 [==============================] - 0s 13ms/step - loss: 1.0194 - accuracy: 0.6476 - val_loss: 1.0170 - val_accuracy: 0.7111\n",
            "Epoch 56/100\n",
            "4/4 [==============================] - 0s 11ms/step - loss: 1.0147 - accuracy: 0.6476 - val_loss: 1.0106 - val_accuracy: 0.7111\n",
            "Epoch 57/100\n",
            "4/4 [==============================] - 0s 10ms/step - loss: 1.0098 - accuracy: 0.6476 - val_loss: 1.0048 - val_accuracy: 0.7111\n",
            "Epoch 58/100\n",
            "4/4 [==============================] - 0s 11ms/step - loss: 1.0045 - accuracy: 0.6476 - val_loss: 0.9981 - val_accuracy: 0.7111\n",
            "Epoch 59/100\n",
            "4/4 [==============================] - 0s 11ms/step - loss: 0.9990 - accuracy: 0.6476 - val_loss: 0.9897 - val_accuracy: 0.7111\n",
            "Epoch 60/100\n",
            "4/4 [==============================] - 0s 10ms/step - loss: 0.9930 - accuracy: 0.6476 - val_loss: 0.9817 - val_accuracy: 0.7111\n",
            "Epoch 61/100\n",
            "4/4 [==============================] - 0s 10ms/step - loss: 0.9870 - accuracy: 0.6476 - val_loss: 0.9738 - val_accuracy: 0.7111\n",
            "Epoch 62/100\n",
            "4/4 [==============================] - 0s 10ms/step - loss: 0.9807 - accuracy: 0.6571 - val_loss: 0.9655 - val_accuracy: 0.7111\n",
            "Epoch 63/100\n",
            "4/4 [==============================] - 0s 9ms/step - loss: 0.9746 - accuracy: 0.6857 - val_loss: 0.9566 - val_accuracy: 0.7111\n",
            "Epoch 64/100\n",
            "4/4 [==============================] - 0s 9ms/step - loss: 0.9675 - accuracy: 0.6857 - val_loss: 0.9479 - val_accuracy: 0.7111\n",
            "Epoch 65/100\n",
            "4/4 [==============================] - 0s 10ms/step - loss: 0.9605 - accuracy: 0.6857 - val_loss: 0.9389 - val_accuracy: 0.7111\n",
            "Epoch 66/100\n",
            "4/4 [==============================] - 0s 10ms/step - loss: 0.9531 - accuracy: 0.6857 - val_loss: 0.9298 - val_accuracy: 0.7333\n",
            "Epoch 67/100\n",
            "4/4 [==============================] - 0s 9ms/step - loss: 0.9457 - accuracy: 0.6952 - val_loss: 0.9213 - val_accuracy: 0.7333\n",
            "Epoch 68/100\n",
            "4/4 [==============================] - 0s 9ms/step - loss: 0.9380 - accuracy: 0.7143 - val_loss: 0.9115 - val_accuracy: 0.7778\n",
            "Epoch 69/100\n",
            "4/4 [==============================] - 0s 9ms/step - loss: 0.9301 - accuracy: 0.7429 - val_loss: 0.9015 - val_accuracy: 0.7778\n",
            "Epoch 70/100\n",
            "4/4 [==============================] - 0s 9ms/step - loss: 0.9220 - accuracy: 0.7429 - val_loss: 0.8900 - val_accuracy: 0.7778\n",
            "Epoch 71/100\n",
            "4/4 [==============================] - 0s 10ms/step - loss: 0.9145 - accuracy: 0.7143 - val_loss: 0.8788 - val_accuracy: 0.7333\n",
            "Epoch 72/100\n",
            "4/4 [==============================] - 0s 9ms/step - loss: 0.9060 - accuracy: 0.7143 - val_loss: 0.8684 - val_accuracy: 0.7333\n",
            "Epoch 73/100\n",
            "4/4 [==============================] - 0s 9ms/step - loss: 0.8971 - accuracy: 0.7048 - val_loss: 0.8588 - val_accuracy: 0.7333\n",
            "Epoch 74/100\n",
            "4/4 [==============================] - 0s 9ms/step - loss: 0.8885 - accuracy: 0.6857 - val_loss: 0.8491 - val_accuracy: 0.7111\n",
            "Epoch 75/100\n",
            "4/4 [==============================] - 0s 9ms/step - loss: 0.8799 - accuracy: 0.6667 - val_loss: 0.8386 - val_accuracy: 0.7111\n",
            "Epoch 76/100\n",
            "4/4 [==============================] - 0s 10ms/step - loss: 0.8708 - accuracy: 0.6571 - val_loss: 0.8286 - val_accuracy: 0.7111\n",
            "Epoch 77/100\n",
            "4/4 [==============================] - 0s 12ms/step - loss: 0.8618 - accuracy: 0.6571 - val_loss: 0.8194 - val_accuracy: 0.7111\n",
            "Epoch 78/100\n",
            "4/4 [==============================] - 0s 11ms/step - loss: 0.8532 - accuracy: 0.6571 - val_loss: 0.8110 - val_accuracy: 0.7111\n",
            "Epoch 79/100\n",
            "4/4 [==============================] - 0s 10ms/step - loss: 0.8445 - accuracy: 0.6571 - val_loss: 0.8020 - val_accuracy: 0.7111\n",
            "Epoch 80/100\n",
            "4/4 [==============================] - 0s 10ms/step - loss: 0.8361 - accuracy: 0.6476 - val_loss: 0.7934 - val_accuracy: 0.7111\n",
            "Epoch 81/100\n",
            "4/4 [==============================] - 0s 12ms/step - loss: 0.8278 - accuracy: 0.6476 - val_loss: 0.7834 - val_accuracy: 0.7111\n",
            "Epoch 82/100\n",
            "4/4 [==============================] - 0s 10ms/step - loss: 0.8192 - accuracy: 0.6476 - val_loss: 0.7733 - val_accuracy: 0.7111\n",
            "Epoch 83/100\n",
            "4/4 [==============================] - 0s 14ms/step - loss: 0.8105 - accuracy: 0.6476 - val_loss: 0.7639 - val_accuracy: 0.7111\n",
            "Epoch 84/100\n",
            "4/4 [==============================] - 0s 11ms/step - loss: 0.8021 - accuracy: 0.6571 - val_loss: 0.7540 - val_accuracy: 0.7111\n",
            "Epoch 85/100\n",
            "4/4 [==============================] - 0s 9ms/step - loss: 0.7935 - accuracy: 0.6571 - val_loss: 0.7438 - val_accuracy: 0.7111\n",
            "Epoch 86/100\n",
            "4/4 [==============================] - 0s 10ms/step - loss: 0.7850 - accuracy: 0.6571 - val_loss: 0.7337 - val_accuracy: 0.7111\n",
            "Epoch 87/100\n",
            "4/4 [==============================] - 0s 9ms/step - loss: 0.7771 - accuracy: 0.6667 - val_loss: 0.7234 - val_accuracy: 0.7111\n",
            "Epoch 88/100\n",
            "4/4 [==============================] - 0s 9ms/step - loss: 0.7690 - accuracy: 0.6857 - val_loss: 0.7139 - val_accuracy: 0.7111\n",
            "Epoch 89/100\n",
            "4/4 [==============================] - 0s 10ms/step - loss: 0.7607 - accuracy: 0.6762 - val_loss: 0.7051 - val_accuracy: 0.7111\n",
            "Epoch 90/100\n",
            "4/4 [==============================] - 0s 9ms/step - loss: 0.7531 - accuracy: 0.6857 - val_loss: 0.6961 - val_accuracy: 0.7111\n",
            "Epoch 91/100\n",
            "4/4 [==============================] - 0s 10ms/step - loss: 0.7452 - accuracy: 0.6857 - val_loss: 0.6868 - val_accuracy: 0.7111\n",
            "Epoch 92/100\n",
            "4/4 [==============================] - 0s 10ms/step - loss: 0.7376 - accuracy: 0.6857 - val_loss: 0.6782 - val_accuracy: 0.7111\n",
            "Epoch 93/100\n",
            "4/4 [==============================] - 0s 10ms/step - loss: 0.7302 - accuracy: 0.6857 - val_loss: 0.6696 - val_accuracy: 0.7333\n",
            "Epoch 94/100\n",
            "4/4 [==============================] - 0s 10ms/step - loss: 0.7231 - accuracy: 0.6857 - val_loss: 0.6616 - val_accuracy: 0.7111\n",
            "Epoch 95/100\n",
            "4/4 [==============================] - 0s 10ms/step - loss: 0.7161 - accuracy: 0.6857 - val_loss: 0.6540 - val_accuracy: 0.7111\n",
            "Epoch 96/100\n",
            "4/4 [==============================] - 0s 11ms/step - loss: 0.7095 - accuracy: 0.6857 - val_loss: 0.6466 - val_accuracy: 0.7111\n",
            "Epoch 97/100\n",
            "4/4 [==============================] - 0s 10ms/step - loss: 0.7027 - accuracy: 0.6667 - val_loss: 0.6396 - val_accuracy: 0.7111\n",
            "Epoch 98/100\n",
            "4/4 [==============================] - 0s 11ms/step - loss: 0.6966 - accuracy: 0.6667 - val_loss: 0.6323 - val_accuracy: 0.7111\n",
            "Epoch 99/100\n",
            "4/4 [==============================] - 0s 11ms/step - loss: 0.6906 - accuracy: 0.6667 - val_loss: 0.6256 - val_accuracy: 0.7111\n",
            "Epoch 100/100\n",
            "4/4 [==============================] - 0s 10ms/step - loss: 0.6845 - accuracy: 0.6667 - val_loss: 0.6189 - val_accuracy: 0.7111\n"
          ],
          "name": "stdout"
        },
        {
          "output_type": "execute_result",
          "data": {
            "text/plain": [
              "<tensorflow.python.keras.callbacks.History at 0x7fc3f3acefd0>"
            ]
          },
          "metadata": {
            "tags": []
          },
          "execution_count": 344
        }
      ]
    },
    {
      "cell_type": "code",
      "metadata": {
        "id": "Yj2ih-c53Cyx"
      },
      "source": [
        "loss3=pd.DataFrame(model3.history.history)"
      ],
      "execution_count": 345,
      "outputs": []
    },
    {
      "cell_type": "code",
      "metadata": {
        "colab": {
          "base_uri": "https://localhost:8080/",
          "height": 282
        },
        "id": "oE2j8EeJ3wJF",
        "outputId": "d4ff0d6b-373a-4bbf-c332-b7cb4d097039"
      },
      "source": [
        "loss3.plot()"
      ],
      "execution_count": 346,
      "outputs": [
        {
          "output_type": "execute_result",
          "data": {
            "text/plain": [
              "<matplotlib.axes._subplots.AxesSubplot at 0x7fc3f3b1add0>"
            ]
          },
          "metadata": {
            "tags": []
          },
          "execution_count": 346
        },
        {
          "output_type": "display_data",
          "data": {
            "image/png": "[encoded data removed]",
            "text/plain": [
              "<Figure size 432x288 with 1 Axes>"
            ]
          },
          "metadata": {
            "tags": [],
            "needs_background": "light"
          }
        }
      ]
    },
    {
      "cell_type": "code",
      "metadata": {
        "colab": {
          "base_uri": "https://localhost:8080/"
        },
        "id": "nwQll-1l3yoX",
        "outputId": "b681c6c1-2f0a-4dc2-b719-8dd2f54c946f"
      },
      "source": [
        "y_predict3=model3.predict_classes(x_test)"
      ],
      "execution_count": 347,
      "outputs": [
        {
          "output_type": "stream",
          "text": [
            "/usr/local/lib/python3.7/dist-packages/tensorflow/python/keras/engine/sequential.py:455: UserWarning: `model.predict_classes()` is deprecated and will be removed after 2021-01-01. Please use instead:* `np.argmax(model.predict(x), axis=-1)`,   if your model does multi-class classification   (e.g. if it uses a `softmax` last-layer activation).* `(model.predict(x) > 0.5).astype(\"int32\")`,   if your model does binary classification   (e.g. if it uses a `sigmoid` last-layer activation).\n",
            "  warnings.warn('`model.predict_classes()` is deprecated and '\n"
          ],
          "name": "stderr"
        }
      ]
    },
    {
      "cell_type": "code",
      "metadata": {
        "colab": {
          "base_uri": "https://localhost:8080/"
        },
        "id": "aPsnaHiT38_O",
        "outputId": "ae15e0b4-9311-4d24-a391-eb96590ad5d8"
      },
      "source": [
        "y_predict3"
      ],
      "execution_count": 348,
      "outputs": [
        {
          "output_type": "execute_result",
          "data": {
            "text/plain": [
              "array([2, 0, 2, 2, 2, 0, 2, 2, 2, 2, 2, 0, 0, 0, 0, 2, 2, 2, 2, 2, 0, 2,\n",
              "       0, 2, 2, 2, 2, 2, 0, 0, 0, 0, 2, 0, 0, 2, 2, 0, 0, 0, 2, 2, 2, 0,\n",
              "       0])"
            ]
          },
          "metadata": {
            "tags": []
          },
          "execution_count": 348
        }
      ]
    },
    {
      "cell_type": "code",
      "metadata": {
        "id": "b5ipXkT_3_Ga"
      },
      "source": [
        "cm3=confusion_matrix(y_predict3,y_test)"
      ],
      "execution_count": 349,
      "outputs": []
    },
    {
      "cell_type": "code",
      "metadata": {
        "colab": {
          "base_uri": "https://localhost:8080/"
        },
        "id": "URgMum-A4M4a",
        "outputId": "b76d9351-2ebd-4e6d-ce62-a695677df2e6"
      },
      "source": [
        "cm3"
      ],
      "execution_count": 350,
      "outputs": [
        {
          "output_type": "execute_result",
          "data": {
            "text/plain": [
              "array([[19,  0,  0],\n",
              "       [ 0,  0,  0],\n",
              "       [ 0, 13, 13]])"
            ]
          },
          "metadata": {
            "tags": []
          },
          "execution_count": 350
        }
      ]
    },
    {
      "cell_type": "code",
      "metadata": {
        "id": "i6RV7Nav4Ohu"
      },
      "source": [
        ""
      ],
      "execution_count": 350,
      "outputs": []
    }
  ]
}